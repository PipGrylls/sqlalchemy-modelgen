{
 "cells": [
  {
   "cell_type": "code",
   "execution_count": 1,
   "metadata": {},
   "outputs": [],
   "source": [
    "from modelgen import create_model"
   ]
  },
  {
   "cell_type": "code",
   "execution_count": 2,
   "metadata": {},
   "outputs": [
    {
     "name": "stderr",
     "output_type": "stream",
     "text": [
      "02-Apr-21 04:19:35 - Reading file /Users/shrinivasdeshmukh/Desktop/personal_projects/modelgen/templates/userinfo.yaml and converting it to python dict\n",
      "02-Apr-21 04:19:35 - Creating schema from YAML\n",
      "02-Apr-21 04:19:35 - Getting structure from table userinfo\n"
     ]
    },
    {
     "data": {
      "text/plain": [
       "True"
      ]
     },
     "execution_count": 2,
     "metadata": {},
     "output_type": "execute_result"
    }
   ],
   "source": [
    "create_model('userinfo')"
   ]
  }
 ],
 "metadata": {
  "kernelspec": {
   "display_name": "firebase",
   "language": "python",
   "name": "bqpd"
  },
  "language_info": {
   "codemirror_mode": {
    "name": "ipython",
    "version": 3
   },
   "file_extension": ".py",
   "mimetype": "text/x-python",
   "name": "python",
   "nbconvert_exporter": "python",
   "pygments_lexer": "ipython3",
   "version": "3.7.9"
  }
 },
 "nbformat": 4,
 "nbformat_minor": 4
}
